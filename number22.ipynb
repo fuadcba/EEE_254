{
  "nbformat": 4,
  "nbformat_minor": 0,
  "metadata": {
    "colab": {
      "provenance": [],
      "authorship_tag": "ABX9TyOUO78wuJmG0gjLGiIC9EW6",
      "include_colab_link": true
    },
    "kernelspec": {
      "name": "python3",
      "display_name": "Python 3"
    },
    "language_info": {
      "name": "python"
    }
  },
  "cells": [
    {
      "cell_type": "markdown",
      "metadata": {
        "id": "view-in-github",
        "colab_type": "text"
      },
      "source": [
        "<a href=\"https://colab.research.google.com/github/fuadcba/EEE_254/blob/main/number22.ipynb\" target=\"_parent\"><img src=\"https://colab.research.google.com/assets/colab-badge.svg\" alt=\"Open In Colab\"/></a>"
      ]
    },
    {
      "cell_type": "code",
      "execution_count": null,
      "metadata": {
        "id": "XGHJb0SMg2eU"
      },
      "outputs": [],
      "source": [
        "try:\n",
        "    # Normal operation - making coffee\n",
        "    coffee_grounds = get_coffee_grounds()\n",
        "    boiled_water = boil_water()\n",
        "    coffee = pour_water_through_grounds(boiled_water, coffee_grounds)\n",
        "    print(\"Enjoy your coffee!\")\n",
        "\n",
        "except OutOfCoffee:\n",
        "    # Handle specific exception\n",
        "    print(\"Out of coffee! Making tea instead...\")\n",
        "    make_tea()\n",
        "\n",
        "except PowerOutage:\n",
        "    # Handle another specific exception\n",
        "    print(\"Power is out! Using gas stove...\")\n",
        "    boiled_water = boil_water_on_gas()\n",
        "    coffee = pour_water_through_grounds(boiled_water, coffee_grounds)\n",
        "\n",
        "except CoffeeMachineBroken as e:\n",
        "    # Handle and log the error\n",
        "    print(f\"Machine error: {e}. Calling repair service...\")\n",
        "    call_repair_service()\n",
        "    print(\"Using instant coffee for now\")\n",
        "    make_instant_coffee()\n",
        "\n",
        "except Exception as e:\n",
        "    # Catch-all for unexpected errors\n",
        "    print(f\"Unexpected error: {e}. Going to café!\")\n",
        "    go_to_cafe()\n",
        "\n",
        "finally:\n",
        "    # This always runs, success or failure\n",
        "    clean_coffee_maker()"
      ]
    }
  ]
}