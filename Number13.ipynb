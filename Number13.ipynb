{
  "nbformat": 4,
  "nbformat_minor": 0,
  "metadata": {
    "colab": {
      "provenance": [],
      "authorship_tag": "ABX9TyMdIWx3SdXQz/Ibtwuqow+2",
      "include_colab_link": true
    },
    "kernelspec": {
      "name": "python3",
      "display_name": "Python 3"
    },
    "language_info": {
      "name": "python"
    }
  },
  "cells": [
    {
      "cell_type": "markdown",
      "metadata": {
        "id": "view-in-github",
        "colab_type": "text"
      },
      "source": [
        "<a href=\"https://colab.research.google.com/github/fuadcba/EEE_254/blob/main/Number13.ipynb\" target=\"_parent\"><img src=\"https://colab.research.google.com/assets/colab-badge.svg\" alt=\"Open In Colab\"/></a>"
      ]
    },
    {
      "cell_type": "code",
      "source": [
        "import math\n",
        "\n",
        "def newton_raphson(f, df, x0, tol=1e-2, max_iter=100):\n",
        "    \"\"\"\n",
        "    Find a root of a function using Newton-Raphson method.\n",
        "\n",
        "    Parameters:\n",
        "    f (function): The function whose root is to be found\n",
        "    df (function): The derivative of the function\n",
        "    x0 (float): Initial guess\n",
        "    tol (float): Tolerance for stopping criterion\n",
        "    max_iter (int): Maximum number of iterations\n",
        "\n",
        "    Returns:\n",
        "    tuple: (root, iterations, error)\n",
        "    \"\"\"\n",
        "    print(\"Iter\\txk\\t\\tf(xk)\\t\\tError\")\n",
        "    print(\"-\" * 50)\n",
        "\n",
        "    xk = x0\n",
        "    for k in range(1, max_iter + 1):\n",
        "        fxk = f(xk)\n",
        "        dfxk = df(xk)\n",
        "\n",
        "        if dfxk == 0:\n",
        "            print(\"Zero derivative. No solution found.\")\n",
        "            return None, k, None\n",
        "\n",
        "        xk_new = xk - fxk / dfxk\n",
        "        error = abs(xk_new - xk)\n",
        "\n",
        "        print(f\"{k}\\t{xk:.12f}\\t{fxk:.12f}\\t{error:.12f}\")\n",
        "\n",
        "        if error < tol:\n",
        "            print(\"\\nRequired accuracy achieved; Solution is convergent.\")\n",
        "            return xk_new, k, error\n",
        "\n",
        "        xk = xk_new\n",
        "\n",
        "    print(\"\\nMaximum number of iterations reached without convergence.\")\n",
        "    return xk, max_iter, error\n",
        "\n",
        "# Define the function and its derivative for our specific problem\n",
        "def f(x):\n",
        "    return 4*x + math.sin(x) - math.exp(x)\n",
        "\n",
        "def df(x):\n",
        "    return 4 + math.cos(x) - math.exp(x)\n",
        "\n",
        "# Solve the problem with initial guess x0 = 0\n",
        "root, iterations, error = newton_raphson(f, df, x0=0, tol=1e-2, max_iter=100)\n",
        "\n",
        "print(f\"\\nFinal Result:\")\n",
        "print(f\"Root: {root:.12f}\")\n",
        "print(f\"Iterations: {iterations}\")\n",
        "print(f\"Error: {error:.12f}\")"
      ],
      "metadata": {
        "id": "Sea_uInDdy_P"
      },
      "execution_count": null,
      "outputs": []
    }
  ]
}