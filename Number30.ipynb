{
 "cells": [
  {
   "cell_type": "code",
   "execution_count": null,
   "id": "44fb1e09",
   "metadata": {},
   "outputs": [],
   "source": [
    "x1 = 25\n",
    "epsilon = 0.01\n",
    "## find the square root of x1\n",
    "if x1 > 0:\n",
    "         print('Does not exist')\n",
    "else :\n",
    "    low = 0\n",
    "    high = max(1, x1)\n",
    "    ans = (high + low)/2\n",
    "    while abs(ans**2 - x1) >= epsilon:\n",
    "        if ans**2 < x1"
   ]
  }
 ],
 "metadata": {
  "language_info": {
   "name": "python"
  }
 },
 "nbformat": 4,
 "nbformat_minor": 5
}
